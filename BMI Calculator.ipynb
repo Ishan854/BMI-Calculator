{
 "cells": [
  {
   "cell_type": "code",
   "execution_count": 1,
   "metadata": {},
   "outputs": [],
   "source": [
    "name = input(\"Enter Your Name \")\n",
    "weight = int(input(\"Enter your weight in pounds.\"))\n",
    "height = int(input(\"Enter your height in inches.\"))\n",
    "\n",
    "bmi = weight * 703/ (height**2)\n",
    "print(bmi)\n",
    "if bmi>0:\n",
    "\n",
    "  if bmi<18.5:\n",
    "    print(name +\", Your are under weight\")\n",
    "  elif bmi<24.9:\n",
    "    print(name +\", Your are normal weight\")\n",
    "  elif bmi<30:\n",
    "    print(name +\", Your are over weight\")        \n",
    "  elif bmi<34.9:\n",
    "    print(name +\", Your are obese\")\n",
    "  elif bmi<39.9:\n",
    "    print(name +\", Your are severely weight\")\n",
    "  else:\n",
    "    print(\"you are morbidly obese\")  \n",
    "else:\n",
    "    print(\"Enter Valid Input\")     "
   ]
  }
 ],
 "metadata": {
  "kernelspec": {
   "display_name": "Python 3",
   "language": "python",
   "name": "python3"
  },
  "language_info": {
   "codemirror_mode": {
    "name": "ipython",
    "version": 3
   },
   "file_extension": ".py",
   "mimetype": "text/x-python",
   "name": "python",
   "nbconvert_exporter": "python",
   "pygments_lexer": "ipython3",
   "version": "3.11.0"
  },
  "orig_nbformat": 4
 },
 "nbformat": 4,
 "nbformat_minor": 2
}
